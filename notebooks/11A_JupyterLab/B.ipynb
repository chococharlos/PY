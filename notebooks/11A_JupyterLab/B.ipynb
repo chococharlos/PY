{
 "cells": [
  {
   "cell_type": "markdown",
   "id": "c1ff2b40-255e-4e80-adb6-f910226b753c",
   "metadata": {},
   "source": [
    "# Notebook shortcuts to work comfortably"
   ]
  },
  {
   "cell_type": "markdown",
   "id": "8d39f231-6a52-4d5c-8810-fb130508c2bb",
   "metadata": {},
   "source": [
    "## Command mode\n",
    "\n",
    "Most shortcuts don't require to hold `[CTRL]`.\n",
    "\n",
    "Instead, you must be on `Mode: Command`:"
   ]
  },
  {
   "cell_type": "markdown",
   "id": "be1d8914-b6bb-4fbd-893d-18b0562dc209",
   "metadata": {},
   "source": [
    "![](src/mode_com.png)"
   ]
  },
  {
   "cell_type": "markdown",
   "id": "27acfd5d-7abb-4ed8-9247-42592aeba805",
   "metadata": {},
   "source": [
    "## Create and write on cell\n",
    "\n",
    "1. Just press `B` to create a cell **B**elow.\n",
    "2. Press `[ENTER]` for `Mode: Edit`.\n",
    "3. Write a simple mathematical operation (as if you use a calculator)."
   ]
  },
  {
   "cell_type": "code",
   "execution_count": 1,
   "id": "30c7ef8b-8c91-4ee6-94ce-3b4d8c52a0c1",
   "metadata": {
    "editable": true,
    "slideshow": {
     "slide_type": ""
    },
    "tags": [
     "remove_cell"
    ]
   },
   "outputs": [
    {
     "data": {
      "text/plain": [
       "56"
      ]
     },
     "execution_count": 1,
     "metadata": {},
     "output_type": "execute_result"
    }
   ],
   "source": [
    "8*7"
   ]
  },
  {
   "cell_type": "markdown",
   "id": "8f85e903-fade-4267-8adc-a84698d867a1",
   "metadata": {},
   "source": [
    "## Copy and paste the cell\n",
    "\n",
    "1. Just press `C` on the previous cell to **C**opy it.\n",
    "2. Select this cell.\n",
    "3. Just press `V` to paste the copied cell below."
   ]
  },
  {
   "cell_type": "code",
   "execution_count": 1,
   "id": "528fd331-6ef4-411b-ba5f-bd3cfc078b5b",
   "metadata": {
    "editable": true,
    "slideshow": {
     "slide_type": ""
    },
    "tags": [
     "remove_cell"
    ]
   },
   "outputs": [
    {
     "data": {
      "text/plain": [
       "56"
      ]
     },
     "execution_count": 1,
     "metadata": {},
     "output_type": "execute_result"
    }
   ],
   "source": [
    "8*7"
   ]
  },
  {
   "cell_type": "markdown",
   "id": "e811dfec-c8d2-4762-9322-6b9ec5cbf78b",
   "metadata": {},
   "source": [
    "## Execution and ..."
   ]
  },
  {
   "cell_type": "markdown",
   "id": "9a4f1574-3212-478f-9806-446d2071d264",
   "metadata": {},
   "source": [
    "### Stay in current cell\n",
    "\n",
    "`[CTRL]` + `[ENTER]`"
   ]
  },
  {
   "cell_type": "code",
   "execution_count": 2,
   "id": "32e8f81c-c2b1-4f0d-bb77-5f7206fccec6",
   "metadata": {
    "editable": true,
    "slideshow": {
     "slide_type": ""
    },
    "tags": [
     "remove_cell"
    ]
   },
   "outputs": [
    {
     "data": {
      "text/plain": [
       "56"
      ]
     },
     "execution_count": 2,
     "metadata": {},
     "output_type": "execute_result"
    }
   ],
   "source": [
    "8*7"
   ]
  },
  {
   "cell_type": "markdown",
   "id": "a1a4b900-100d-4b34-a0f0-8f02e85ce94c",
   "metadata": {},
   "source": [
    "### Jump to next cell\n",
    "\n",
    "`[SHIFT]` + `[ENTER]`"
   ]
  },
  {
   "cell_type": "code",
   "execution_count": 3,
   "id": "fe876dd1-46e3-4810-a95c-cf2d694d535c",
   "metadata": {
    "editable": true,
    "slideshow": {
     "slide_type": ""
    },
    "tags": [
     "remove_cell"
    ]
   },
   "outputs": [
    {
     "data": {
      "text/plain": [
       "56"
      ]
     },
     "execution_count": 3,
     "metadata": {},
     "output_type": "execute_result"
    }
   ],
   "source": [
    "8*7"
   ]
  },
  {
   "cell_type": "markdown",
   "id": "e07a11a2-b0ca-4c95-8211-9aef19205a2c",
   "metadata": {
    "editable": true,
    "slideshow": {
     "slide_type": ""
    },
    "tags": []
   },
   "source": [
    "### Create new cell below\n",
    "\n",
    "`[ALT]` + `[ENTER]`"
   ]
  },
  {
   "cell_type": "code",
   "execution_count": 4,
   "id": "20a0802b-dc8c-4d1d-a47d-8d110b969f91",
   "metadata": {
    "editable": true,
    "slideshow": {
     "slide_type": ""
    },
    "tags": [
     "remove_cell"
    ]
   },
   "outputs": [
    {
     "data": {
      "text/plain": [
       "56"
      ]
     },
     "execution_count": 4,
     "metadata": {},
     "output_type": "execute_result"
    }
   ],
   "source": [
    "8*7"
   ]
  },
  {
   "cell_type": "code",
   "execution_count": null,
   "id": "35645637-3ac3-4f4f-ab2d-1896c13d7ba3",
   "metadata": {
    "editable": true,
    "slideshow": {
     "slide_type": ""
    },
    "tags": [
     "remove_cell"
    ]
   },
   "outputs": [],
   "source": []
  },
  {
   "cell_type": "markdown",
   "id": "58e69cbd-4619-4432-a2ee-37273009b8b1",
   "metadata": {},
   "source": [
    "## Cell Types"
   ]
  },
  {
   "cell_type": "markdown",
   "id": "91f85a3d-95f8-40a2-bdb9-6119baad9954",
   "metadata": {},
   "source": [
    "Watch [this YouTube tutorial](https://youtu.be/Qk6Fm2vD6jw) for visual and detailed explanation.\n",
    "\n",
    "![](src/cell_type.png)"
   ]
  },
  {
   "cell_type": "markdown",
   "id": "d5c255b6-f50a-441e-9783-32ed34dad0e4",
   "metadata": {},
   "source": [
    "### Code"
   ]
  },
  {
   "cell_type": "code",
   "execution_count": 2,
   "id": "d29f0721-d925-4380-a86c-6341ce11b1e4",
   "metadata": {
    "editable": true,
    "slideshow": {
     "slide_type": ""
    },
    "tags": [
     "remove_cell"
    ]
   },
   "outputs": [
    {
     "data": {
      "text/plain": [
       "56"
      ]
     },
     "execution_count": 2,
     "metadata": {},
     "output_type": "execute_result"
    }
   ],
   "source": [
    "8*7"
   ]
  },
  {
   "cell_type": "markdown",
   "id": "f65f58fe-2794-440d-b97b-60ea7e592ff0",
   "metadata": {},
   "source": [
    "### Markdown"
   ]
  },
  {
   "cell_type": "markdown",
   "id": "3a1305a7-d89b-4bb8-b3d1-861525b0cd61",
   "metadata": {
    "editable": true,
    "slideshow": {
     "slide_type": ""
    },
    "tags": [
     "remove_cell"
    ]
   },
   "source": [
    "8*7\n",
    "\n",
    "#### Heading\n",
    "\n",
    "Styled notes with **bold** and *italica*.\n",
    "\n",
    "Even a [link](https://datons.ai/)."
   ]
  },
  {
   "cell_type": "markdown",
   "id": "97915efb-cac2-4ee6-8678-a132733da004",
   "metadata": {},
   "source": [
    "### Raw"
   ]
  },
  {
   "cell_type": "raw",
   "id": "aee63168-f51b-4679-b283-09df7823d4bd",
   "metadata": {
    "editable": true,
    "raw_mimetype": "",
    "slideshow": {
     "slide_type": ""
    },
    "tags": [
     "remove_cell"
    ]
   },
   "source": [
    "8*7"
   ]
  },
  {
   "cell_type": "markdown",
   "id": "839d8e93-a076-4545-9083-aca8af34be5c",
   "metadata": {},
   "source": [
    "## Notebook types during the course"
   ]
  },
  {
   "cell_type": "markdown",
   "id": "1044c1f2-fdf1-4aec-9fd3-aa3f2e145027",
   "metadata": {
    "editable": true,
    "slideshow": {
     "slide_type": ""
    },
    "tags": []
   },
   "source": [
    "Within each lesson, you may work with 4 types of notebooks:\n",
    "\n",
    "- A: blank notebook for the instructor to explain the code from scratch\n",
    "- B: solutions for the student to copy-paste if don't know what to do\n",
    "- C: notebook to practice with provided dataset (in some lessons)\n",
    "- +: create blank notebook to apply lesson functions to new dataset"
   ]
  },
  {
   "cell_type": "markdown",
   "id": "81c1e0c9",
   "metadata": {},
   "source": [
    "## Working out with solutions"
   ]
  },
  {
   "cell_type": "markdown",
   "id": "d1cb5efa",
   "metadata": {},
   "source": [
    "Within each lesson, you'll have a `B.ipynb` file with the code solutions.\n",
    "\n",
    "In case you get lost, you can use them as a reference to know which functions you use on the exercise (with a new dataset).\n",
    "\n",
    "To work more comfortable: **drag tab to the side** to view multiple notebooks at the same time."
   ]
  },
  {
   "cell_type": "markdown",
   "id": "ffc8831e",
   "metadata": {},
   "source": [
    "![](src/tab.gif)"
   ]
  }
 ],
 "metadata": {
  "kernelspec": {
   "display_name": "Python (work)",
   "language": "python",
   "name": "work"
  },
  "language_info": {
   "codemirror_mode": {
    "name": "ipython",
    "version": 3
   },
   "file_extension": ".py",
   "mimetype": "text/x-python",
   "name": "python",
   "nbconvert_exporter": "python",
   "pygments_lexer": "ipython3",
   "version": "3.12.2"
  }
 },
 "nbformat": 4,
 "nbformat_minor": 5
}
