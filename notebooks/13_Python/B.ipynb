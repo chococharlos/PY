{
 "cells": [
  {
   "attachments": {},
   "cell_type": "markdown",
   "id": "e28a92a6-69c3-4da3-84d8-078b370825b2",
   "metadata": {
    "papermill": {
     "duration": 0.00926,
     "end_time": "2024-04-10T10:49:38.694244",
     "exception": false,
     "start_time": "2024-04-10T10:49:38.684984",
     "status": "completed"
    },
    "tags": []
   },
   "source": [
    "# Discover Function without Memorization"
   ]
  },
  {
   "attachments": {},
   "cell_type": "markdown",
   "id": "449dc956",
   "metadata": {
    "papermill": {
     "duration": 0.006826,
     "end_time": "2024-04-10T10:49:38.707466",
     "exception": false,
     "start_time": "2024-04-10T10:49:38.700640",
     "status": "completed"
    },
    "tags": []
   },
   "source": [
    "## Load Excel file\n",
    "\n",
    "To do things in programming, you need a function.\n",
    "\n",
    "In this case, you need a function that loads an Excel file in Python.\n",
    "\n",
    "Functions are stored in libraries (also called modules or packages), which organize functions by topic.\n",
    "\n",
    "The `pandas` library is used for data manipulation and analysis.\n",
    "\n",
    "Let's find a function in the `pandas` library that loads an Excel file.\n",
    "\n",
    "- `tsla_stock.xlsx`"
   ]
  },
  {
   "attachments": {},
   "cell_type": "markdown",
   "id": "aca7eb6e",
   "metadata": {
    "papermill": {
     "duration": 0.003701,
     "end_time": "2024-04-10T10:49:38.715695",
     "exception": false,
     "start_time": "2024-04-10T10:49:38.711994",
     "status": "completed"
    },
    "tags": []
   },
   "source": [
    "### Import library\n",
    "\n",
    "```python\n",
    "import library_name\n",
    "```"
   ]
  },
  {
   "cell_type": "code",
   "execution_count": 1,
   "id": "83b79ec0",
   "metadata": {
    "execution": {
     "iopub.execute_input": "2024-04-10T10:49:38.724428Z",
     "iopub.status.busy": "2024-04-10T10:49:38.724138Z",
     "iopub.status.idle": "2024-04-10T10:49:39.326529Z",
     "shell.execute_reply": "2024-04-10T10:49:39.325925Z"
    },
    "papermill": {
     "duration": 0.609555,
     "end_time": "2024-04-10T10:49:39.328732",
     "exception": false,
     "start_time": "2024-04-10T10:49:38.719177",
     "status": "completed"
    },
    "tags": []
   },
   "outputs": [],
   "source": [
    "import pandas"
   ]
  },
  {
   "attachments": {},
   "cell_type": "markdown",
   "id": "553d3cb8",
   "metadata": {
    "papermill": {
     "duration": 0.009982,
     "end_time": "2024-04-10T10:49:39.344642",
     "exception": false,
     "start_time": "2024-04-10T10:49:39.334660",
     "status": "completed"
    },
    "tags": []
   },
   "source": [
    "### Find function within library with dot notation\n",
    "\n",
    "```python\n",
    "library.<TAB>\n",
    "```"
   ]
  },
  {
   "attachments": {},
   "cell_type": "markdown",
   "id": "e2222603",
   "metadata": {
    "papermill": {
     "duration": 0.005195,
     "end_time": "2024-04-10T10:49:39.356095",
     "exception": false,
     "start_time": "2024-04-10T10:49:39.350900",
     "status": "completed"
    },
    "tags": []
   },
   "source": [
    "![](src/suggestion-pandas.png)"
   ]
  },
  {
   "attachments": {},
   "cell_type": "markdown",
   "id": "8ba44c7d",
   "metadata": {
    "papermill": {
     "duration": 0.003745,
     "end_time": "2024-04-10T10:49:39.364714",
     "exception": false,
     "start_time": "2024-04-10T10:49:39.360969",
     "status": "completed"
    },
    "tags": []
   },
   "source": [
    "![](src/suggestion-excel.png)"
   ]
  },
  {
   "cell_type": "code",
   "execution_count": 2,
   "id": "0b4b118a",
   "metadata": {
    "execution": {
     "iopub.execute_input": "2024-04-10T10:49:39.373933Z",
     "iopub.status.busy": "2024-04-10T10:49:39.373592Z",
     "iopub.status.idle": "2024-04-10T10:49:39.381065Z",
     "shell.execute_reply": "2024-04-10T10:49:39.380548Z"
    },
    "papermill": {
     "duration": 0.014437,
     "end_time": "2024-04-10T10:49:39.382679",
     "exception": false,
     "start_time": "2024-04-10T10:49:39.368242",
     "status": "completed"
    },
    "tags": []
   },
   "outputs": [
    {
     "data": {
      "text/plain": [
       "<function pandas.io.excel._base.read_excel(io, sheet_name: 'str | int | list[IntStrT] | None' = 0, *, header: 'int | Sequence[int] | None' = 0, names: 'SequenceNotStr[Hashable] | range | None' = None, index_col: 'int | str | Sequence[int] | None' = None, usecols: 'int | str | Sequence[int] | Sequence[str] | Callable[[str], bool] | None' = None, dtype: 'DtypeArg | None' = None, engine: \"Literal['xlrd', 'openpyxl', 'odf', 'pyxlsb', 'calamine'] | None\" = None, converters: 'dict[str, Callable] | dict[int, Callable] | None' = None, true_values: 'Iterable[Hashable] | None' = None, false_values: 'Iterable[Hashable] | None' = None, skiprows: 'Sequence[int] | int | Callable[[int], object] | None' = None, nrows: 'int | None' = None, na_values=None, keep_default_na: 'bool' = True, na_filter: 'bool' = True, verbose: 'bool' = False, parse_dates: 'list | dict | bool' = False, date_parser: 'Callable | lib.NoDefault' = <no_default>, date_format: 'dict[Hashable, str] | str | None' = None, thousands: 'str | None' = None, decimal: 'str' = '.', comment: 'str | None' = None, skipfooter: 'int' = 0, storage_options: 'StorageOptions | None' = None, dtype_backend: 'DtypeBackend | lib.NoDefault' = <no_default>, engine_kwargs: 'dict | None' = None) -> 'DataFrame | dict[IntStrT, DataFrame]'>"
      ]
     },
     "execution_count": 2,
     "metadata": {},
     "output_type": "execute_result"
    }
   ],
   "source": [
    "pandas.read_excel"
   ]
  },
  {
   "attachments": {},
   "cell_type": "markdown",
   "id": "e3b4e009",
   "metadata": {
    "papermill": {
     "duration": 0.024218,
     "end_time": "2024-04-10T10:49:39.419005",
     "exception": false,
     "start_time": "2024-04-10T10:49:39.394787",
     "status": "completed"
    },
    "tags": []
   },
   "source": [
    "### Execute function\n",
    "\n",
    "```python\n",
    "library.function_name(object) # <CTRL> + <ENTER>\n",
    "```"
   ]
  },
  {
   "cell_type": "code",
   "execution_count": 3,
   "id": "2180dc1e",
   "metadata": {
    "execution": {
     "iopub.execute_input": "2024-04-10T10:49:39.455419Z",
     "iopub.status.busy": "2024-04-10T10:49:39.454892Z",
     "iopub.status.idle": "2024-04-10T10:49:39.756246Z",
     "shell.execute_reply": "2024-04-10T10:49:39.755317Z"
    },
    "papermill": {
     "duration": 0.313117,
     "end_time": "2024-04-10T10:49:39.758535",
     "exception": false,
     "start_time": "2024-04-10T10:49:39.445418",
     "status": "completed"
    },
    "tags": []
   },
   "outputs": [
    {
     "data": {
      "text/html": [
       "<div>\n",
       "<style scoped>\n",
       "    .dataframe tbody tr th:only-of-type {\n",
       "        vertical-align: middle;\n",
       "    }\n",
       "\n",
       "    .dataframe tbody tr th {\n",
       "        vertical-align: top;\n",
       "    }\n",
       "\n",
       "    .dataframe thead th {\n",
       "        text-align: right;\n",
       "    }\n",
       "</style>\n",
       "<table border=\"1\" class=\"dataframe\">\n",
       "  <thead>\n",
       "    <tr style=\"text-align: right;\">\n",
       "      <th></th>\n",
       "      <th>Name</th>\n",
       "      <th>Height</th>\n",
       "      <th>Weight</th>\n",
       "      <th>Gender</th>\n",
       "    </tr>\n",
       "  </thead>\n",
       "  <tbody>\n",
       "    <tr>\n",
       "      <th>0</th>\n",
       "      <td>Serena</td>\n",
       "      <td>1.78</td>\n",
       "      <td>80</td>\n",
       "      <td>Female</td>\n",
       "    </tr>\n",
       "    <tr>\n",
       "      <th>1</th>\n",
       "      <td>Rafa</td>\n",
       "      <td>1.75</td>\n",
       "      <td>85</td>\n",
       "      <td>Male</td>\n",
       "    </tr>\n",
       "    <tr>\n",
       "      <th>2</th>\n",
       "      <td>Roger</td>\n",
       "      <td>1.80</td>\n",
       "      <td>83</td>\n",
       "      <td>Male</td>\n",
       "    </tr>\n",
       "  </tbody>\n",
       "</table>\n",
       "</div>"
      ],
      "text/plain": [
       "     Name  Height  Weight  Gender\n",
       "0  Serena    1.78      80  Female\n",
       "1    Rafa    1.75      85    Male\n",
       "2   Roger    1.80      83    Male"
      ]
     },
     "execution_count": 3,
     "metadata": {},
     "output_type": "execute_result"
    }
   ],
   "source": [
    "pandas.read_excel('tsla_stock.xlsx')"
   ]
  },
  {
   "attachments": {},
   "cell_type": "markdown",
   "id": "a920dab9",
   "metadata": {
    "papermill": {
     "duration": 0.003467,
     "end_time": "2024-04-10T10:49:39.766003",
     "exception": false,
     "start_time": "2024-04-10T10:49:39.762536",
     "status": "completed"
    },
    "tags": []
   },
   "source": [
    "## Load specific sheet from Excel\n",
    "\n",
    "### Excel with multiple sheets"
   ]
  },
  {
   "attachments": {},
   "cell_type": "markdown",
   "id": "9acd6031",
   "metadata": {
    "papermill": {
     "duration": 0.00486,
     "end_time": "2024-04-10T10:49:39.774422",
     "exception": false,
     "start_time": "2024-04-10T10:49:39.769562",
     "status": "completed"
    },
    "tags": []
   },
   "source": [
    "The following data represents the stock price of Tesla Inc."
   ]
  },
  {
   "attachments": {},
   "cell_type": "markdown",
   "id": "31c48abe",
   "metadata": {
    "papermill": {
     "duration": 0.004005,
     "end_time": "2024-04-10T10:49:39.782567",
     "exception": false,
     "start_time": "2024-04-10T10:49:39.778562",
     "status": "completed"
    },
    "tags": []
   },
   "source": [
    "![](src/excel_file.png)"
   ]
  },
  {
   "attachments": {},
   "cell_type": "markdown",
   "id": "fcea554a",
   "metadata": {
    "papermill": {
     "duration": 0.004513,
     "end_time": "2024-04-10T10:49:39.791636",
     "exception": false,
     "start_time": "2024-04-10T10:49:39.787123",
     "status": "completed"
    },
    "tags": []
   },
   "source": [
    "By default, the function `pandas.read_excel` reads the first sheet, which represents another table."
   ]
  },
  {
   "attachments": {},
   "cell_type": "markdown",
   "id": "9304f68f",
   "metadata": {
    "papermill": {
     "duration": 0.003798,
     "end_time": "2024-04-10T10:49:39.799093",
     "exception": false,
     "start_time": "2024-04-10T10:49:39.795295",
     "status": "completed"
    },
    "tags": []
   },
   "source": [
    "![](src/excel-two-tables.png)"
   ]
  },
  {
   "attachments": {},
   "cell_type": "markdown",
   "id": "6b97e10e",
   "metadata": {
    "papermill": {
     "duration": 0.004331,
     "end_time": "2024-04-10T10:49:39.806927",
     "exception": false,
     "start_time": "2024-04-10T10:49:39.802596",
     "status": "completed"
    },
    "tags": []
   },
   "source": [
    "### Function parameters\n",
    "\n",
    "To modify the default behaviour, you need to add new parameters to the function.\n",
    "\n",
    "To ask Python for help, you can use the `<SHIFT> + <TAB>` keys.\n",
    "\n",
    "```python\n",
    "library.function_name(object, <SHIFT> + <TAB>)\n",
    "```"
   ]
  },
  {
   "attachments": {},
   "cell_type": "markdown",
   "id": "a954be30",
   "metadata": {
    "papermill": {
     "duration": 0.004495,
     "end_time": "2024-04-10T10:49:39.814935",
     "exception": false,
     "start_time": "2024-04-10T10:49:39.810440",
     "status": "completed"
    },
    "tags": []
   },
   "source": [
    "![](src/doc-excel.png)"
   ]
  },
  {
   "cell_type": "code",
   "execution_count": 4,
   "id": "bb23f74b",
   "metadata": {
    "execution": {
     "iopub.execute_input": "2024-04-10T10:49:39.824467Z",
     "iopub.status.busy": "2024-04-10T10:49:39.824156Z",
     "iopub.status.idle": "2024-04-10T10:49:39.855826Z",
     "shell.execute_reply": "2024-04-10T10:49:39.854849Z"
    },
    "papermill": {
     "duration": 0.039108,
     "end_time": "2024-04-10T10:49:39.857889",
     "exception": false,
     "start_time": "2024-04-10T10:49:39.818781",
     "status": "completed"
    },
    "tags": []
   },
   "outputs": [
    {
     "data": {
      "text/html": [
       "<div>\n",
       "<style scoped>\n",
       "    .dataframe tbody tr th:only-of-type {\n",
       "        vertical-align: middle;\n",
       "    }\n",
       "\n",
       "    .dataframe tbody tr th {\n",
       "        vertical-align: top;\n",
       "    }\n",
       "\n",
       "    .dataframe thead th {\n",
       "        text-align: right;\n",
       "    }\n",
       "</style>\n",
       "<table border=\"1\" class=\"dataframe\">\n",
       "  <thead>\n",
       "    <tr style=\"text-align: right;\">\n",
       "      <th></th>\n",
       "      <th>Name</th>\n",
       "      <th>Height</th>\n",
       "      <th>Weight</th>\n",
       "      <th>Gender</th>\n",
       "    </tr>\n",
       "  </thead>\n",
       "  <tbody>\n",
       "    <tr>\n",
       "      <th>0</th>\n",
       "      <td>Serena</td>\n",
       "      <td>1.78</td>\n",
       "      <td>80</td>\n",
       "      <td>Female</td>\n",
       "    </tr>\n",
       "    <tr>\n",
       "      <th>1</th>\n",
       "      <td>Rafa</td>\n",
       "      <td>1.75</td>\n",
       "      <td>85</td>\n",
       "      <td>Male</td>\n",
       "    </tr>\n",
       "    <tr>\n",
       "      <th>2</th>\n",
       "      <td>Roger</td>\n",
       "      <td>1.80</td>\n",
       "      <td>83</td>\n",
       "      <td>Male</td>\n",
       "    </tr>\n",
       "  </tbody>\n",
       "</table>\n",
       "</div>"
      ],
      "text/plain": [
       "     Name  Height  Weight  Gender\n",
       "0  Serena    1.78      80  Female\n",
       "1    Rafa    1.75      85    Male\n",
       "2   Roger    1.80      83    Male"
      ]
     },
     "execution_count": 4,
     "metadata": {},
     "output_type": "execute_result"
    }
   ],
   "source": [
    "pandas.read_excel('tsla_stock.xlsx', ) #!"
   ]
  },
  {
   "attachments": {},
   "cell_type": "markdown",
   "id": "b28d64db",
   "metadata": {
    "papermill": {
     "duration": 0.024362,
     "end_time": "2024-04-10T10:49:39.903452",
     "exception": false,
     "start_time": "2024-04-10T10:49:39.879090",
     "status": "completed"
    },
    "tags": []
   },
   "source": [
    "## Load file from folder"
   ]
  },
  {
   "cell_type": "code",
   "execution_count": 5,
   "id": "96dc9762",
   "metadata": {
    "execution": {
     "iopub.execute_input": "2024-04-10T10:49:39.914636Z",
     "iopub.status.busy": "2024-04-10T10:49:39.914380Z",
     "iopub.status.idle": "2024-04-10T10:49:39.924355Z",
     "shell.execute_reply": "2024-04-10T10:49:39.923685Z"
    },
    "papermill": {
     "duration": 0.0169,
     "end_time": "2024-04-10T10:49:39.925917",
     "exception": false,
     "start_time": "2024-04-10T10:49:39.909017",
     "status": "completed"
    },
    "tags": []
   },
   "outputs": [
    {
     "data": {
      "text/html": [
       "<div>\n",
       "<style scoped>\n",
       "    .dataframe tbody tr th:only-of-type {\n",
       "        vertical-align: middle;\n",
       "    }\n",
       "\n",
       "    .dataframe tbody tr th {\n",
       "        vertical-align: top;\n",
       "    }\n",
       "\n",
       "    .dataframe thead th {\n",
       "        text-align: right;\n",
       "    }\n",
       "</style>\n",
       "<table border=\"1\" class=\"dataframe\">\n",
       "  <thead>\n",
       "    <tr style=\"text-align: right;\">\n",
       "      <th></th>\n",
       "      <th>Unnamed: 0</th>\n",
       "      <th>income</th>\n",
       "      <th>titles</th>\n",
       "      <th>grand slams</th>\n",
       "      <th>turned professional</th>\n",
       "      <th>wins</th>\n",
       "      <th>losses</th>\n",
       "    </tr>\n",
       "  </thead>\n",
       "  <tbody>\n",
       "    <tr>\n",
       "      <th>0</th>\n",
       "      <td>roger</td>\n",
       "      <td>130</td>\n",
       "      <td>103</td>\n",
       "      <td>20</td>\n",
       "      <td>1998</td>\n",
       "      <td>1251</td>\n",
       "      <td>275</td>\n",
       "    </tr>\n",
       "    <tr>\n",
       "      <th>1</th>\n",
       "      <td>rafa</td>\n",
       "      <td>127</td>\n",
       "      <td>90</td>\n",
       "      <td>21</td>\n",
       "      <td>2001</td>\n",
       "      <td>1038</td>\n",
       "      <td>209</td>\n",
       "    </tr>\n",
       "    <tr>\n",
       "      <th>2</th>\n",
       "      <td>nole</td>\n",
       "      <td>154</td>\n",
       "      <td>86</td>\n",
       "      <td>20</td>\n",
       "      <td>2003</td>\n",
       "      <td>989</td>\n",
       "      <td>199</td>\n",
       "    </tr>\n",
       "  </tbody>\n",
       "</table>\n",
       "</div>"
      ],
      "text/plain": [
       "  Unnamed: 0  income  titles  grand slams  turned professional  wins  losses\n",
       "0      roger     130     103           20                 1998  1251     275\n",
       "1       rafa     127      90           21                 2001  1038     209\n",
       "2       nole     154      86           20                 2003   989     199"
      ]
     },
     "execution_count": 5,
     "metadata": {},
     "output_type": "execute_result"
    }
   ],
   "source": [
    "pandas.read_csv('data/best_tennis_players_stats.csv')"
   ]
  },
  {
   "attachments": {},
   "cell_type": "markdown",
   "id": "43467081",
   "metadata": {
    "papermill": {
     "duration": 0.003818,
     "end_time": "2024-04-10T10:49:39.933623",
     "exception": false,
     "start_time": "2024-04-10T10:49:39.929805",
     "status": "completed"
    },
    "tags": []
   },
   "source": [
    "## Repository of files for this course"
   ]
  },
  {
   "cell_type": "code",
   "execution_count": 6,
   "id": "ce07a1be",
   "metadata": {
    "execution": {
     "iopub.execute_input": "2024-04-10T10:49:39.943261Z",
     "iopub.status.busy": "2024-04-10T10:49:39.942947Z",
     "iopub.status.idle": "2024-04-10T10:49:40.017421Z",
     "shell.execute_reply": "2024-04-10T10:49:40.016792Z"
    },
    "papermill": {
     "duration": 0.08233,
     "end_time": "2024-04-10T10:49:40.019991",
     "exception": false,
     "start_time": "2024-04-10T10:49:39.937661",
     "status": "completed"
    },
    "tags": []
   },
   "outputs": [
    {
     "data": {
      "text/html": [
       "<div>\n",
       "<style scoped>\n",
       "    .dataframe tbody tr th:only-of-type {\n",
       "        vertical-align: middle;\n",
       "    }\n",
       "\n",
       "    .dataframe tbody tr th {\n",
       "        vertical-align: top;\n",
       "    }\n",
       "\n",
       "    .dataframe thead th {\n",
       "        text-align: right;\n",
       "    }\n",
       "</style>\n",
       "<table border=\"1\" class=\"dataframe\">\n",
       "  <thead>\n",
       "    <tr style=\"text-align: right;\">\n",
       "      <th></th>\n",
       "      <th>technology</th>\n",
       "      <th>month</th>\n",
       "      <th>day</th>\n",
       "      <th>hour</th>\n",
       "      <th>generation_mwh</th>\n",
       "    </tr>\n",
       "  </thead>\n",
       "  <tbody>\n",
       "    <tr>\n",
       "      <th>0</th>\n",
       "      <td>Carbon</td>\n",
       "      <td>1</td>\n",
       "      <td>1</td>\n",
       "      <td>0</td>\n",
       "      <td>250.0</td>\n",
       "    </tr>\n",
       "    <tr>\n",
       "      <th>1</th>\n",
       "      <td>Carbon</td>\n",
       "      <td>1</td>\n",
       "      <td>1</td>\n",
       "      <td>1</td>\n",
       "      <td>250.0</td>\n",
       "    </tr>\n",
       "    <tr>\n",
       "      <th>...</th>\n",
       "      <td>...</td>\n",
       "      <td>...</td>\n",
       "      <td>...</td>\n",
       "      <td>...</td>\n",
       "      <td>...</td>\n",
       "    </tr>\n",
       "    <tr>\n",
       "      <th>140158</th>\n",
       "      <td>Other Renewables</td>\n",
       "      <td>12</td>\n",
       "      <td>31</td>\n",
       "      <td>22</td>\n",
       "      <td>607.5</td>\n",
       "    </tr>\n",
       "    <tr>\n",
       "      <th>140159</th>\n",
       "      <td>Other Renewables</td>\n",
       "      <td>12</td>\n",
       "      <td>31</td>\n",
       "      <td>23</td>\n",
       "      <td>591.6</td>\n",
       "    </tr>\n",
       "  </tbody>\n",
       "</table>\n",
       "<p>140160 rows × 5 columns</p>\n",
       "</div>"
      ],
      "text/plain": [
       "              technology  month  day  hour  generation_mwh\n",
       "0                 Carbon      1    1     0           250.0\n",
       "1                 Carbon      1    1     1           250.0\n",
       "...                  ...    ...  ...   ...             ...\n",
       "140158  Other Renewables     12   31    22           607.5\n",
       "140159  Other Renewables     12   31    23           591.6\n",
       "\n",
       "[140160 rows x 5 columns]"
      ]
     },
     "execution_count": 6,
     "metadata": {},
     "output_type": "execute_result"
    }
   ],
   "source": [
    "pandas.read_csv('../../data/raw/energy_generation_spain_yearly.csv')"
   ]
  },
  {
   "cell_type": "code",
   "execution_count": 7,
   "id": "1fbd0baa",
   "metadata": {
    "execution": {
     "iopub.execute_input": "2024-04-10T10:49:40.036939Z",
     "iopub.status.busy": "2024-04-10T10:49:40.036305Z",
     "iopub.status.idle": "2024-04-10T10:49:40.059957Z",
     "shell.execute_reply": "2024-04-10T10:49:40.058627Z"
    },
    "papermill": {
     "duration": 0.03556,
     "end_time": "2024-04-10T10:49:40.062312",
     "exception": false,
     "start_time": "2024-04-10T10:49:40.026752",
     "status": "completed"
    },
    "tags": []
   },
   "outputs": [
    {
     "data": {
      "text/html": [
       "<div>\n",
       "<style scoped>\n",
       "    .dataframe tbody tr th:only-of-type {\n",
       "        vertical-align: middle;\n",
       "    }\n",
       "\n",
       "    .dataframe tbody tr th {\n",
       "        vertical-align: top;\n",
       "    }\n",
       "\n",
       "    .dataframe thead th {\n",
       "        text-align: right;\n",
       "    }\n",
       "</style>\n",
       "<table border=\"1\" class=\"dataframe\">\n",
       "  <thead>\n",
       "    <tr style=\"text-align: right;\">\n",
       "      <th></th>\n",
       "      <th>country</th>\n",
       "      <th>continent</th>\n",
       "      <th>year</th>\n",
       "      <th>lifeExp</th>\n",
       "      <th>pop</th>\n",
       "      <th>gdpPercap</th>\n",
       "      <th>iso_alpha</th>\n",
       "      <th>iso_num</th>\n",
       "    </tr>\n",
       "  </thead>\n",
       "  <tbody>\n",
       "    <tr>\n",
       "      <th>0</th>\n",
       "      <td>Afghanistan</td>\n",
       "      <td>Asia</td>\n",
       "      <td>1952</td>\n",
       "      <td>28.801</td>\n",
       "      <td>8425333</td>\n",
       "      <td>779.445314</td>\n",
       "      <td>AFG</td>\n",
       "      <td>4</td>\n",
       "    </tr>\n",
       "    <tr>\n",
       "      <th>1</th>\n",
       "      <td>Afghanistan</td>\n",
       "      <td>Asia</td>\n",
       "      <td>1957</td>\n",
       "      <td>30.332</td>\n",
       "      <td>9240934</td>\n",
       "      <td>820.853030</td>\n",
       "      <td>AFG</td>\n",
       "      <td>4</td>\n",
       "    </tr>\n",
       "    <tr>\n",
       "      <th>...</th>\n",
       "      <td>...</td>\n",
       "      <td>...</td>\n",
       "      <td>...</td>\n",
       "      <td>...</td>\n",
       "      <td>...</td>\n",
       "      <td>...</td>\n",
       "      <td>...</td>\n",
       "      <td>...</td>\n",
       "    </tr>\n",
       "    <tr>\n",
       "      <th>1702</th>\n",
       "      <td>Zimbabwe</td>\n",
       "      <td>Africa</td>\n",
       "      <td>2002</td>\n",
       "      <td>39.989</td>\n",
       "      <td>11926563</td>\n",
       "      <td>672.038623</td>\n",
       "      <td>ZWE</td>\n",
       "      <td>716</td>\n",
       "    </tr>\n",
       "    <tr>\n",
       "      <th>1703</th>\n",
       "      <td>Zimbabwe</td>\n",
       "      <td>Africa</td>\n",
       "      <td>2007</td>\n",
       "      <td>43.487</td>\n",
       "      <td>12311143</td>\n",
       "      <td>469.709298</td>\n",
       "      <td>ZWE</td>\n",
       "      <td>716</td>\n",
       "    </tr>\n",
       "  </tbody>\n",
       "</table>\n",
       "<p>1704 rows × 8 columns</p>\n",
       "</div>"
      ],
      "text/plain": [
       "          country continent  year  lifeExp       pop   gdpPercap iso_alpha  \\\n",
       "0     Afghanistan      Asia  1952   28.801   8425333  779.445314       AFG   \n",
       "1     Afghanistan      Asia  1957   30.332   9240934  820.853030       AFG   \n",
       "...           ...       ...   ...      ...       ...         ...       ...   \n",
       "1702     Zimbabwe    Africa  2002   39.989  11926563  672.038623       ZWE   \n",
       "1703     Zimbabwe    Africa  2007   43.487  12311143  469.709298       ZWE   \n",
       "\n",
       "      iso_num  \n",
       "0           4  \n",
       "1           4  \n",
       "...       ...  \n",
       "1702      716  \n",
       "1703      716  \n",
       "\n",
       "[1704 rows x 8 columns]"
      ]
     },
     "execution_count": 7,
     "metadata": {},
     "output_type": "execute_result"
    }
   ],
   "source": [
    "pandas.read_csv('../../data/raw/gapminder.csv')"
   ]
  }
 ],
 "metadata": {
  "authors": [
   {
    "blog": "https//blog.resolvingpython.com",
    "name": "Jesús López",
    "twitter": "https://twitter.com/jsulopzs"
   }
  ],
  "kernelspec": {
   "display_name": "Python 3 (ipykernel)",
   "language": "python",
   "name": "python3"
  },
  "language_info": {
   "codemirror_mode": {
    "name": "ipython",
    "version": 3
   },
   "file_extension": ".py",
   "mimetype": "text/x-python",
   "name": "python",
   "nbconvert_exporter": "python",
   "pygments_lexer": "ipython3",
   "version": "3.12.0"
  },
  "papermill": {
   "default_parameters": {},
   "duration": 3.146549,
   "end_time": "2024-04-10T10:49:40.511107",
   "environment_variables": {},
   "exception": null,
   "input_path": "/Users/sota/Dropbox/2 Business/2 Areas/datons.academy/2 Areas/Products/Digital Courses/DAV/course-maven/solutions/notebooks/10_Python Tricks/B.ipynb",
   "output_path": "/Users/sota/Dropbox/2 Business/2 Areas/datons.academy/2 Areas/Products/Digital Courses/DAV/course-maven/solutions/notebooks/10_Python Tricks/B.ipynb",
   "parameters": {},
   "start_time": "2024-04-10T10:49:37.364558",
   "version": "2.5.0"
  },
  "title": "Machine Learning & Linear Regression",
  "toc-autonumbering": true,
  "vscode": {
   "interpreter": {
    "hash": "b0fa6594d8f4cbf19f97940f81e996739fb7646882a419484c72d19e05852a7e"
   }
  }
 },
 "nbformat": 4,
 "nbformat_minor": 5
}